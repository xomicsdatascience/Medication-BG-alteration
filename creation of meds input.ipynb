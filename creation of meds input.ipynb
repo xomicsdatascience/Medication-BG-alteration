{
 "cells": [
  {
   "cell_type": "markdown",
   "id": "d8b33955-265d-4afb-a5c9-8d950fd8416c",
   "metadata": {},
   "source": [
    "#### Import packages"
   ]
  },
  {
   "cell_type": "code",
   "execution_count": null,
   "id": "2640cb3b-8d28-487e-8d4b-15e931cb7c7e",
   "metadata": {},
   "outputs": [],
   "source": [
    "import time\n",
    "import pandas as pd\n",
    "import numpy as np\n",
    "import random\n",
    "import bisect\n",
    "import pickle\n",
    "import matplotlib.pyplot as plt  \n",
    "from datetime import timedelta"
   ]
  },
  {
   "cell_type": "markdown",
   "id": "3bf24278-94f1-42f9-b9b8-13f523328858",
   "metadata": {},
   "source": [
    "#### Read in files"
   ]
  },
  {
   "cell_type": "code",
   "execution_count": null,
   "id": "66c0eefb-c4e9-4886-94e0-29863e071ca8",
   "metadata": {},
   "outputs": [],
   "source": [
    "medFilePath = r'C:\\Users\\momenzadeha\\Documents\\hypogly_pred\\EHR_extracts\\Meyer2306 All Meds.csv'\n",
    "labFilePath = r'C:\\Users\\momenzadeha\\Documents\\hypogly_pred\\EHR_extracts\\meyer_2306_labs_with_order_time_2023_03_06.csv'\n",
    "originalMedDf = pd.read_csv(medFilePath, parse_dates=['MAR_TAKEN_TIME'])\n",
    "originalLabDf = pd.read_csv(labFilePath)\n",
    "originalLabDf = originalLabDf[originalLabDf['PROC_NAME'].str.contains(\"POCT Glucose\", na=False)]"
   ]
  },
  {
   "cell_type": "markdown",
   "id": "ef4ac588-3d77-494f-8262-49208c6cd422",
   "metadata": {
    "tags": []
   },
   "source": [
    "#### Pre-processing"
   ]
  },
  {
   "cell_type": "code",
   "execution_count": null,
   "id": "ca8a8970-afe2-4e5b-95fd-321c01fa6c99",
   "metadata": {},
   "outputs": [],
   "source": [
    "def format_lab_df(originalLabDf):\n",
    "    # Create a copy of the original dataframe to avoid modifying the input directly\n",
    "    labDf = originalLabDf.copy()\n",
    "    \n",
    "    # Select only the relevant columns: 'PAT_ENC_CSN_ID', 'CONTACT_DATE', 'RESULT_TIME', and 'ORD_VALUE'\n",
    "    labDf = labDf[['PAT_ENC_CSN_ID', 'CONTACT_DATE', 'RESULT_TIME', 'ORD_VALUE']]\n",
    "    \n",
    "    # Convert 'CONTACT_DATE' and 'RESULT_TIME' columns to datetime objects\n",
    "    labDf[['CONTACT_DATE', 'RESULT_TIME']] = labDf[['CONTACT_DATE', 'RESULT_TIME']].apply(pd.to_datetime)\n",
    "    \n",
    "    # Replace various non-numeric values in the 'ORD_VALUE' column with numeric equivalents\n",
    "    labDf['ORD_VALUE'].replace(['154bs', 'BS 175', 'bs120', '168 mg/dL', '159=bs', 'bs 120', '`185',\n",
    "                                '250 mg/dL', 'BG 171 mg/dL', '250 mg/dL', '240 mg/dL', '130  mg/dL',\n",
    "                                'BS 145', 'bs-134'],\n",
    "                               ['154', '175', '120', '168', '159', '120', '185', '250', '171', '250', '240',\n",
    "                                '130', '145', '134'], inplace=True)\n",
    "    \n",
    "    # Convert 'ORD_VALUE' column to numeric, setting invalid parsing as NaN (coerce errors)\n",
    "    labDf['ORD_VALUE'] = pd.to_numeric(labDf['ORD_VALUE'], errors='coerce')\n",
    "    \n",
    "    # Drop rows where 'ORD_VALUE' has NaN values (i.e., non-numeric or missing)\n",
    "    labDf = labDf.dropna(subset=['ORD_VALUE'])\n",
    "    \n",
    "    # Return the cleaned and formatted lab dataframe\n",
    "    return labDf"
   ]
  },
  {
   "cell_type": "code",
   "execution_count": null,
   "id": "8dc0eb27-e218-4459-af84-f430a18551c6",
   "metadata": {},
   "outputs": [],
   "source": [
    "def format_med_df(originalMedDf):\n",
    "    # Create a copy of the original medication dataframe to avoid modifying the input directly\n",
    "    medDf = originalMedDf.copy()\n",
    "    \n",
    "    # Select only the relevant columns: 'MRN', 'CSN', 'MAR_TAKEN_TIME', 'MEDICATION_NM', and 'MAR_SIG'\n",
    "    medDf = medDf[['MRN', 'CSN', 'MAR_TAKEN_TIME', 'MEDICATION_NM', 'MAR_SIG']]\n",
    "    \n",
    "    # Drop any rows that contain missing (NaN) values\n",
    "    medDf = medDf.dropna()\n",
    "    \n",
    "    # Keep only the rows where 'MAR_SIG' (the medication dosage or signature) is greater than 0\n",
    "    # This filters out rows where no medication was taken or an invalid dosage was recorded\n",
    "    medDf = medDf[medDf['MAR_SIG'] > 0].reset_index(drop=True)\n",
    "    \n",
    "    # Return the cleaned and filtered medication dataframe\n",
    "    return medDf"
   ]
  },
  {
   "cell_type": "code",
   "execution_count": null,
   "id": "3deabe0e-2a9e-4ccc-bc16-2f577dee58b2",
   "metadata": {},
   "outputs": [],
   "source": [
    "labDf = format_lab_df(originalLabDf)\n",
    "filteredLabDf = labDf.copy()"
   ]
  },
  {
   "cell_type": "code",
   "execution_count": null,
   "id": "3a06f012-c559-485f-ba07-5647fd893792",
   "metadata": {},
   "outputs": [],
   "source": [
    "filteredMedDf = format_med_df(originalMedDf)"
   ]
  },
  {
   "cell_type": "markdown",
   "id": "ce5d999c-6583-497e-a5b3-d213da4f9fc3",
   "metadata": {},
   "source": [
    "##### filter out extraneous medication entries"
   ]
  },
  {
   "cell_type": "code",
   "execution_count": null,
   "id": "cfb345ef-da47-4358-a564-864c49cd3e2f",
   "metadata": {},
   "outputs": [],
   "source": [
    "flush_list=['SODIUM CHLORIDE 0.9 % (FLUSH) IJ SYRG',\n",
    "       '0.9% NACL IV LINE FLUSH BAG',\n",
    "       'HEPARIN SOLUTION 2 UNITS/ML FOR FLUSH INTRAPROCEDURE (CATH LAB ONLY)',\n",
    "       'HEPARIN, PORCINE (PF) 1000 UNIT/ML IJ SOLN (ADULT FLUSH)',\n",
    "       'HEPARIN (PORCINE) IN NACL (PF) 1000 UNITS/500ML FOR ECMO FLUSH IV SOLP',\n",
    "       'HEPARIN (PORCINE) IN NACL (PF) 1000 UNITS/500ML FOR ECMO FLUSH IV SOLP BOLUS FROM BAG',\n",
    "       'ALBUMIN 5% IN LR FOR PORTAL FLUSH MIXTURE (INTRAPROCEDURE)',\n",
    "       'HEPARIN FLUSH INFUSION FOR THROMBOLYSIS (5 UNITS/ML) IV SOLN',\n",
    "       'EPINEPHRINE IN STERILE WATER (EPI FLUSH) INTRAPROCEDURE ',\n",
    "       'HEPARIN PERIOTONEAL CATHETER FLUSH PEDIATRIC',\n",
    "       'WASH SOLUTION (COVID-19 STUDY DRUG) 5% HUMAN SERUM ALBUMIN FOR IV LINE FLUSH',\n",
    "       'SODIUM CHLORIDE 0.9% FOR ECMO FLUSH IV SOL BOLUS FROM BAG',\n",
    "       'HEPARIN (PORCINE) IN NACL 1000 UNITS/500ML NS FOR  CONGENITAL HEART ECMO FLUSH FROM BAG',\n",
    "       '0.9% NACL (EG-01-1962-03 STUDY DRUG) INTRAVENTRICULAR FLUSH- IRB #44821',\n",
    "       'HEPARIN (PORCINE) IN NACL 500 UNITS/500ML NS FOR  CONGENITAL HEART ECMO FLUSH FROM BAG',\n",
    "       'SODIUM CHLORIDE 0.9% FOR ECMO FLUSH',\n",
    "       'ALBUMIN 25% IN LR FOR PORTAL FLUSH MIXTURE (INTRAPROCEDURE)',\n",
    "       'HEPARIN LOCK FLUSH (PORCINE)  10 UNITS/ML IV SOLN',\n",
    "       'SODIUM CHLORIDE 0.9 % IV SOLP']\n",
    "irrig_list=['NEOMYCIN-POLYMYXIN-BACITRACIN IRRIGATION',\n",
    "       'WATER FOR IRRIGATION, STERILE IR SOLN',\n",
    "       'CEFAZOLIN (ANCEF)-VANCO-GENT-CLINDAMYCIN-BACITRACIN-TOBRA IRRIGATION MIXTURE (INTRAPROCEDURE)',\n",
    "       'LACTATED RINGERS IRRIGATION INTRAPROCEDURE',\n",
    "       'PAPAVERINE IN NS FOR IRRIGATION (FOR CARDIAC) MIXTURE (INTRAPROCEDURE)',\n",
    "       'SIMETHICONE IN STERILE WATER FOR IRRIGATION MIXTURE (INTRAPROCEDURE)',\n",
    "       'BACITRACIN IN NS FOR IRRIGATION MIXTURE (INTRAPROCEDURE)',\n",
    "       'VANCOMYCIN 500 MG IN 200 ML 0.9% NACL POCKET IRRIGATION FOR INTRAPROCEDURE',\n",
    "       'GENTAMICIN 80 MG IN 200 ML 0.9% NACL POCKET IRRIGATION FOR INTRAPROCEDURE',\n",
    "       'AMPHOTERICIN B IRRIGATION',\n",
    "       'NEOMYCIN-POLYMYXIN B (NEOSPORIN) IRRIGATION SOLUTION MIXTURE (INTRAPROCEDURE)',\n",
    "       'BETADINE 10%, NS IRRIGATION MIXTURE (INTRAPROCEDURE)',\n",
    "       'POLYMYXIN B IRRIGATION SOLUTION (INTRAPROCEDURE)',\n",
    "       'AMPHOTERICIN B (FUNGIZONE) IRRIGATION MIXTURE (INTRAPROCEDURE)',\n",
    "       'PAPAVERINE, VERAPAMIL IN NS FOR IRRIGATION (FOR CARDIAC) INTRAPROCEDE',\n",
    "       'EPINEPHRINE IN NORMAL SALINE FOR IRRIGATION MIXTURE (INTRAPROCEDURE)',\n",
    "       'GENTAMICIN IN NS IRRIGATION INTRAPROCEDURE ONLY',\n",
    "       'NEOSPORIN-POLYMYXIN B IRRIGATION SOLUTION',\n",
    "       'IRRIGATION SOLNS PHYSIOLOGICAL IR SOLN',\n",
    "       'CARDIOPLEGIC SOLUTION WITH GLUTAMATE/ASPARTATE IRRIGATION',\n",
    "       'ALUM 10 GRAM IN STERILE WATER 1,000 ML IRRIGATION',\n",
    "       'BACTROBAN NASAL IRRIGATION',\n",
    "       'BALANCED SALTS FOR INTRAOCULAR IRRIGATION MIXTURE (INTRAPROCEDURE)','SODIUM CHLORIDE  0.9 % IR SOLN']\n",
    "iohexol=['IOHEXOL 300 MG IODINE/ML IV SOLN (RADIANT USE)','IOHEXOL 350 MG IODINE/ML IV SOLN']\n",
    "non_meds=['DRUG LEVEL REMINDER', 'HELP', 'IMS TEMPLATE', 'IMPELLA PURGE SOLUTION BUILDER', 'MMX ORAL SUSPENSION (IP ORDERING ONLY)']"
   ]
  },
  {
   "cell_type": "code",
   "execution_count": null,
   "id": "d3ac73b4-d30b-4704-a466-405e3bcdc110",
   "metadata": {},
   "outputs": [],
   "source": [
    "# Remove rows where the medication name is irrigation, flush, non-med, or iohexol\n",
    "filteredMedDf_clean = filteredMedDf[~filteredMedDf['MEDICATION_NM'].isin(irrig_list+flush_list+non_meds+iohexol)]"
   ]
  },
  {
   "cell_type": "markdown",
   "id": "6e0bf4d4-1ea8-45c2-839c-d06673e80994",
   "metadata": {},
   "source": [
    "##### Select top 500 medications + any other anti-hyperglycemics not in top 500 list"
   ]
  },
  {
   "cell_type": "code",
   "execution_count": null,
   "id": "e40cdb87-db7b-4c71-9ad7-682915c48d95",
   "metadata": {},
   "outputs": [],
   "source": [
    "replace_dict = {\n",
    "    'INSULIN LISPRO 100 UNITS/ML SC SOLN': 'INSULIN LISPRO 100 UNITS/ML SOLN',\n",
    "    'INSULIN LISPRO 100 UNITS/ML SC SOLN (SLIDING SCALE)': 'INSULIN LISPRO 100 UNITS/ML SOLN',\n",
    "    'INSULIN REGULAR HUMAN 100 UNITS/ML IJ SOLN (SLIDING SCALE)': 'INSULIN REGULAR HUMAN 100 UNITS/ML IJ SOLN',\n",
    "    'INSULIN REGULAR IN 0.9 % NACL 100 UNIT/100 ML (1 UNIT/ML) IV SOLN': 'INSULIN REGULAR IN 0.9% NACL 100 UNITS/100 ML (ADULT)',\n",
    "    'INSULIN ASPART U-100 100 UNITS/ML SC SOLN (SLIDING SCALE)': 'INSULIN ASPART U-100 100 UNITS/ML SC SOLN',\n",
    "    'INSULIN REGULAR HUMAN 100 UNIT/ML IJ SOLN (PRL 1772 & 2600  ONLY)': 'INSULIN REGULAR HUMAN 100 UNITS/ML IJ SOLN',\n",
    "    'INSULIN GLARGINE 100 UNITS/ML SC SOLN': 'INSULIN GLARGINE 100 UNITS/ML',\n",
    "    'INSULIN GLARGINE 100 UNITS/ML SC INPN': 'INSULIN GLARGINE 100 UNITS/ML',\n",
    "    'INSULIN NPH AND REGULAR HUMAN 100 UNIT/ML (70-30) SC SUSP': 'INSULIN NPH AND REGULAR HUMAN 100 UNIT/ML (70-30) SC'\n",
    "}\n",
    "\n",
    "filteredMedDf_clean = filteredMedDf_clean.replace(replace_dict)"
   ]
  },
  {
   "cell_type": "code",
   "execution_count": null,
   "id": "4c9fee77-fcf0-4b40-84a6-a3c210b7e81b",
   "metadata": {
    "tags": []
   },
   "outputs": [],
   "source": [
    "target_med_list=['INSULIN LISPRO 100 UNITS/ML SOLN',\n",
    "                 'INSULIN REGULAR HUMAN 100 UNITS/ML IJ SOLN',\n",
    "                 'INSULIN REGULAR IN 0.9% NACL 100 UNITS/100 ML (ADULT)',\n",
    "                 'INSULIN ASPART U-100 100 UNITS/ML SC SOLN',\n",
    "                 'INSULIN GLARGINE 100 UNITS/ML',\n",
    "                 'INSULIN NPH AND REGULAR HUMAN 100 UNIT/ML (70-30) SC',\n",
    "                 'SITAGLIPTIN 100 MG PO TABS', 'SITAGLIPTIN  50 MG PO TABS','SITAGLIPTIN  25 MG PO TABS',\n",
    "                 'GLIMEPIRIDE 4 MG PO TABS', 'GLIMEPIRIDE 1 MG PO TABS','GLIMEPIRIDE 2 MG PO TABS',\n",
    "                 'GLIPIZIDE 10 MG PO TABS', 'GLIPIZIDE  5 MG PO TABS',\n",
    "                 'GLIPIZIDE  5 MG PO TR24','GLIPIZIDE 10 MG PO TR24',\n",
    "                 'GLYBURIDE 1.25 MG PO TABS','GLYBURIDE 5 MG PO TABS',\n",
    "                 'PIOGLITAZONE 30 MG PO TABS', 'PIOGLITAZONE 15 MG PO TABS','PIOGLITAZONE 45 MG PO TABS',\n",
    "                 'CSHS PARENTERAL NUTRITITION ORDER ADULT','CSHS PERIPHERAL PARENTERAL NUTRITION ADULT','CSHS PARENTERAL NUTRITION ORDER CLINIMIX E MIXTURE']     "
   ]
  },
  {
   "cell_type": "code",
   "execution_count": null,
   "id": "8910593b-a52b-4ae1-bb10-48645ac878c1",
   "metadata": {},
   "outputs": [],
   "source": [
    "topNum = 500\n",
    "top500_list=filteredMedDf_clean['MEDICATION_NM'].value_counts()[:topNum].index.to_list()\n",
    "top500_DM_meds=target_med_list+top500_list\n",
    "targfilteredMedDf=filteredMedDf_clean[filteredMedDf_clean['MEDICATION_NM'].isin(top500_DM_meds)]"
   ]
  },
  {
   "cell_type": "markdown",
   "id": "504e0580-a2f9-4885-9139-51746bc18594",
   "metadata": {
    "tags": []
   },
   "source": [
    "#### Merge dataframes - medications leading up to labs"
   ]
  },
  {
   "cell_type": "code",
   "execution_count": null,
   "id": "73ca15e6-4141-48da-9439-5a47031dce51",
   "metadata": {
    "tags": []
   },
   "outputs": [],
   "source": [
    "csnToResultTimesDict = filteredLabDf.sort_values('RESULT_TIME').groupby(\n",
    "        'PAT_ENC_CSN_ID')['RESULT_TIME'].agg(list).to_dict()\n",
    "csnResultTimeToGlycemicLevel = filteredLabDf.set_index(['PAT_ENC_CSN_ID', 'RESULT_TIME'])['ORD_VALUE'].to_dict()\n",
    "medsBeforeLabEventDf = targfilteredMedDf[targfilteredMedDf['CSN'].isin(set(csnToResultTimesDict.keys()))].dropna()\n",
    "medsBeforeLabEventDf = medsBeforeLabEventDf.sort_values(['MAR_TAKEN_TIME']).reset_index(drop=True)"
   ]
  },
  {
   "cell_type": "markdown",
   "id": "791612be-b298-43fe-b38f-55f9d05168c5",
   "metadata": {
    "tags": []
   },
   "source": [
    "#### Calculate time differences between medication administration and lab results"
   ]
  },
  {
   "cell_type": "code",
   "execution_count": null,
   "id": "a5c9f9a3-8099-4a35-b605-4d9109d5c814",
   "metadata": {
    "tags": []
   },
   "outputs": [],
   "source": [
    "# Sort the DataFrame by 'RESULT_TIME' within each 'PAT_ENC_CSN_ID' group\n",
    "filteredLabDf.sort_values(by=['PAT_ENC_CSN_ID', 'RESULT_TIME'], inplace=True)\n",
    "\n",
    "# Initialize an empty list to store the selected rows\n",
    "selected_rows = []\n",
    "counter = 0\n",
    "\n",
    "# Group by 'PAT_ENC_CSN_ID' and iterate over each group of lab records\n",
    "for _, group in filteredLabDf.groupby('PAT_ENC_CSN_ID'):\n",
    "    # Skip groups with fewer than 2 records (no valid comparisons can be made)\n",
    "    if len(group) < 2:\n",
    "        continue  \n",
    "    \n",
    "    # Randomly select one 'RESULT_TIME' from the group\n",
    "    random_time = random.randint(0, len(group)-1)\n",
    "    random_measure = group['RESULT_TIME'].tolist()[random_time]\n",
    "    \n",
    "    # Define a time window: between 4 and 16 hours prior to the randomly selected 'RESULT_TIME'\n",
    "    tminus4 = random_measure - timedelta(hours=4)\n",
    "    tminus16 = random_measure - timedelta(hours=16)\n",
    "\n",
    "    # Filter for rows where 'RESULT_TIME' is within the 4 to 16 hours window and 'ORD_VALUE' is non-zero\n",
    "    valid_rows = group[(group['RESULT_TIME'].between(tminus16, tminus4)) & (group['ORD_VALUE'] != 0)]\n",
    "\n",
    "    # If no valid rows are found, try up to 5 times to select a new random 'RESULT_TIME'\n",
    "    if valid_rows.empty:\n",
    "        i = 0\n",
    "        while i < 5:\n",
    "            # Randomly select another 'RESULT_TIME' from the group\n",
    "            random_time = random.randint(0, len(group)-1)\n",
    "            random_measure = group['RESULT_TIME'].tolist()[random_time]\n",
    "            \n",
    "            # Recalculate the 4 to 16 hour window\n",
    "            tminus4 = random_measure - timedelta(hours=4)\n",
    "            tminus16 = random_measure - timedelta(hours=16)\n",
    "            \n",
    "            # Filter for valid rows again\n",
    "            valid_rows = group[(group['RESULT_TIME'].between(tminus16, tminus4)) & (group['ORD_VALUE'] != 0)]\n",
    "            \n",
    "            # If valid rows are found, exit the loop\n",
    "            if not valid_rows.empty:\n",
    "                break\n",
    "            i += 1\n",
    "\n",
    "    # If valid rows were found, select the row corresponding to the original random 'RESULT_TIME'\n",
    "    if not valid_rows.empty:\n",
    "        selected_row = group.iloc[random_time, :]  # Select the row at the random index\n",
    "        selected_rows.append(selected_row)  # Add the selected row to the list of selected rows\n",
    "    \n",
    "    counter += 1\n",
    "    \n",
    "    # Print progress every 1000 iterations\n",
    "    if counter % 1000 == 0:\n",
    "        print(counter)\n",
    "\n",
    "# Create a DataFrame from the selected rows\n",
    "selected_df = pd.DataFrame(selected_rows)"
   ]
  },
  {
   "cell_type": "code",
   "execution_count": null,
   "id": "a5ce664a-c670-4252-8c09-382f6af083ea",
   "metadata": {},
   "outputs": [],
   "source": [
    "# Select and reset the index of the columns 'PAT_ENC_CSN_ID' and 'RESULT_TIME' from selected_df\n",
    "rand_BG_df = selected_df[['PAT_ENC_CSN_ID', 'RESULT_TIME']].reset_index(drop=True)\n",
    "\n",
    "# Rename 'PAT_ENC_CSN_ID' column to 'CSN' for consistency in merging\n",
    "rand_BG_df.rename(columns={'PAT_ENC_CSN_ID': 'CSN'}, inplace=True)\n",
    "\n",
    "# Merge the medication data (medsBeforeLabEventDf) with the randomized lab data (rand_BG_df) on 'CSN'\n",
    "merge = pd.merge(medsBeforeLabEventDf, rand_BG_df, how='inner', on='CSN')"
   ]
  },
  {
   "cell_type": "code",
   "execution_count": null,
   "id": "5911ce2c-3a61-4d88-a4f4-073c19827d97",
   "metadata": {},
   "outputs": [],
   "source": [
    "with open(r'/Users/momenzadeha/Documents/hypogly_pred/MELRoutputCSNs.pkl', 'wb') as handle:\n",
    "    pickle.dump(rand_BG_df, handle, protocol=pickle.HIGHEST_PROTOCOL)\n",
    "with open(r'/Users/momenzadeha/Documents/hypogly_pred/outputBG_df.pkl', 'wb') as handle:\n",
    "    pickle.dump(selected_df, handle, protocol=pickle.HIGHEST_PROTOCOL)"
   ]
  },
  {
   "cell_type": "markdown",
   "id": "6af20cb9-7d59-481c-8778-032216d79d00",
   "metadata": {},
   "source": [
    "#### Calculate differences between medication and random BG time"
   ]
  },
  {
   "cell_type": "code",
   "execution_count": null,
   "id": "68a2b24f-da72-492f-ad74-4033fd2944c6",
   "metadata": {
    "tags": []
   },
   "outputs": [],
   "source": [
    "def create_time_difference_column_in_meds_before_lab_event_df(medsBeforeLabEventDf):\n",
    "    diffFromLabColumn = medsBeforeLabEventDf['RESULT_TIME'] - medsBeforeLabEventDf['MAR_TAKEN_TIME']\n",
    "    diffFromLabColumn = [np.timedelta64(x, 'm') for x in diffFromLabColumn]\n",
    "    medsBeforeLabEventDf['TIME_DIFF'] = diffFromLabColumn\n",
    "    medsBeforeLabEventDf = medsBeforeLabEventDf[\n",
    "        ['CSN', 'MAR_TAKEN_TIME', 'RESULT_TIME', 'TIME_DIFF', 'MEDICATION_NM', 'MAR_SIG']]\n",
    "    return medsBeforeLabEventDf"
   ]
  },
  {
   "cell_type": "code",
   "execution_count": null,
   "id": "9eaa3b35-c74e-4f9a-b35d-7a551948dd38",
   "metadata": {},
   "outputs": [],
   "source": [
    "medsBeforeLabEventDf_diff = create_time_difference_column_in_meds_before_lab_event_df(merge)"
   ]
  },
  {
   "cell_type": "markdown",
   "id": "90ed066d-2b50-4821-bdc4-56df8cd60277",
   "metadata": {
    "tags": []
   },
   "source": [
    "#### Filter for medications only in the lookback window"
   ]
  },
  {
   "cell_type": "code",
   "execution_count": null,
   "id": "957354c0-032e-4421-b2b5-b498411709b7",
   "metadata": {},
   "outputs": [],
   "source": [
    "def establish_random_delay_before_med_for_each_csn(csnRts, delayTimeLength):\n",
    "    # Create a dictionary where each 'CSN' (unique patient encounter) from 'csnRts'\n",
    "    # is assigned the same 'delayTimeLength'\n",
    "    return {key: delayTimeLength for key in csnRts}"
   ]
  },
  {
   "cell_type": "code",
   "execution_count": null,
   "id": "25d2c410-e21e-45ee-a3b9-ede68c85c647",
   "metadata": {},
   "outputs": [],
   "source": [
    "def divide_times_into_segments_for_each_csn_result_time(csnRt, timeDiffs, randomDelayDict, numSections, timeWindowHours):\n",
    "    # Calculate the endTime as a timedelta (in minutes) based on the random delay for the given 'CSN'\n",
    "    endTime = np.timedelta64(int(np.round(randomDelayDict[csnRt] * 60)), 'm')\n",
    "    \n",
    "    # Calculate the startTime by adding a modifiable 'segmentLengthHours' value to the endTime\n",
    "    startTime = endTime + np.timedelta64(timeWindowHours * 60, 'm')  # 'segmentLengthHours' modifiable\n",
    "\n",
    "    # Generate evenly spaced segment cutoffs from endTime to startTime\n",
    "    segmentCutoffs = np.linspace(endTime.astype(int), startTime.astype(int), numSections + 1)\n",
    "    \n",
    "    # Convert each segment cutoff into a timedelta64 in minutes\n",
    "    segmentCutoffs = [np.timedelta64(int(x), 'm') for x in segmentCutoffs]\n",
    "    \n",
    "    # Convert the 'timeDiffs' list into timedelta64 in minutes\n",
    "    timeDiffs = [np.timedelta64(x, 'm') for x in timeDiffs]\n",
    "    \n",
    "    # Categorize each time difference into one of the segments\n",
    "    segmentCategories = np.searchsorted(segmentCutoffs, timeDiffs, side='right')    \n",
    "    return segmentCategories"
   ]
  },
  {
   "cell_type": "code",
   "execution_count": null,
   "id": "d5bdb8ae-68f8-46f1-8ee7-24419054cdfd",
   "metadata": {},
   "outputs": [],
   "source": [
    "def identify_time_section_from_med_to_event(medsBeforeLabEventDf, numSections, randomDelayMaxLength, timeWindowHours):\n",
    "    # Create a copy of the dataframe to avoid modifying the original data\n",
    "    medsBeforeLabEventDf = medsBeforeLabEventDf.copy()\n",
    "\n",
    "    # Sort the dataframe by 'CSN', 'RESULT_TIME', and 'TIME_DIFF' to ensure proper grouping\n",
    "    medsBeforeLabEventDf = medsBeforeLabEventDf.sort_values(['CSN', 'RESULT_TIME', 'TIME_DIFF']).reset_index(drop=True)\n",
    "\n",
    "    # Establish a random delay for each CSN-RESULT_TIME combination, using the maximum random delay length\n",
    "    randomDelayDict = establish_random_delay_before_med_for_each_csn(set(zip(medsBeforeLabEventDf['CSN'], medsBeforeLabEventDf['RESULT_TIME'])), randomDelayMaxLength)\n",
    "\n",
    "    # Apply the 'divide_times_into_segments_for_each_csn_result_time' function to create 'SEGMENT' categories for each CSN group\n",
    "    medsBeforeLabEventDf['SEGMENT'] = medsBeforeLabEventDf.groupby(['CSN', 'RESULT_TIME'])['TIME_DIFF'].transform(\n",
    "        lambda timeDiffs: divide_times_into_segments_for_each_csn_result_time(timeDiffs.name, timeDiffs, randomDelayDict, numSections, timeWindowHours)\n",
    "    )\n",
    "\n",
    "    # Return the modified dataframe and the random delay dictionary\n",
    "    return medsBeforeLabEventDf, randomDelayDict"
   ]
  },
  {
   "cell_type": "code",
   "execution_count": null,
   "id": "79ce1f71-ca8e-45a9-851c-143c744ea32d",
   "metadata": {},
   "outputs": [],
   "source": [
    "# Define the number of segments, random delay maximum length, and the time window in hours\n",
    "numSegments = 1  # Only 1 segment to divide the time period into\n",
    "randomDelayMaxLength = 4  # Maximum random delay (e.g., 4 hours) for medications before the lab event\n",
    "timeWindowHours = 24  # Time window (24 hours) to be used in the analysis\n",
    "\n",
    "# Set a random seed for reproducibility when generating random delays\n",
    "random.seed(0)\n",
    "\n",
    "# Call the function to identify the time segment for each medication event, based on the time differences\n",
    "# and the random delay assigned to each CSN (patient encounter)\n",
    "medsBeforeLabEventDf_seg, randomDelayDict = identify_time_section_from_med_to_event(\n",
    "    medsBeforeLabEventDf_diff, numSegments, randomDelayMaxLength, timeWindowHours)"
   ]
  },
  {
   "cell_type": "code",
   "execution_count": null,
   "id": "721484d6-027a-44b9-b49f-d7d7b8bbfe21",
   "metadata": {},
   "outputs": [],
   "source": [
    "# Filter the DataFrame to exclude rows where the segment is 0 or 2\n",
    "medsBeforeLabEventDf_seg_red = medsBeforeLabEventDf_seg[\n",
    "    (medsBeforeLabEventDf_seg['SEGMENT'] != 0) & (medsBeforeLabEventDf_seg['SEGMENT'] != 2)\n",
    "]\n",
    "\n",
    "# Group by 'CSN' and 'MEDICATION_NM', aggregating the 'MAR_SIG' (medication dosage) by summing it\n",
    "medsBeforeLabEventDf_seg_red_agg = medsBeforeLabEventDf_seg_red.groupby(['CSN', 'MEDICATION_NM'])['MAR_SIG'].sum()\n",
    "\n",
    "# Create a pivot table with 'CSN' as the index and 'MEDICATION_NM' as columns, summing 'MAR_SIG'\n",
    "medsBeforeLabEventDf_seg_red_agg_piv = medsBeforeLabEventDf_seg_red_agg.unstack().reset_index()\n",
    "\n",
    "# Final DataFrame: 'CSN' is the index, with 'MAR_SIG' summed across different medications as columns\n",
    "medsBeforeLabEventDf_seg_red_agg_piv = medsBeforeLabEventDf_seg_red_agg_piv.fillna(0) "
   ]
  },
  {
   "cell_type": "code",
   "execution_count": null,
   "id": "06c0bb5b-e513-42bc-bf6e-92a833e2bf25",
   "metadata": {},
   "outputs": [],
   "source": [
    "with open(r'/Users/momenzadeha/Documents/hypogly_pred/top500_DM_meds_12h.pkl', 'wb') as handle:\n",
    "    pickle.dump(medsBeforeLabEventDf_seg_red_agg_piv, handle, protocol=pickle.HIGHEST_PROTOCOL)"
   ]
  }
 ],
 "metadata": {
  "kernelspec": {
   "display_name": "base",
   "language": "python",
   "name": "base"
  },
  "language_info": {
   "codemirror_mode": {
    "name": "ipython",
    "version": 3
   },
   "file_extension": ".py",
   "mimetype": "text/x-python",
   "name": "python",
   "nbconvert_exporter": "python",
   "pygments_lexer": "ipython3",
   "version": "3.9.12"
  }
 },
 "nbformat": 4,
 "nbformat_minor": 5
}
